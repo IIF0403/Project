{
  "nbformat": 4,
  "nbformat_minor": 0,
  "metadata": {
    "colab": {
      "name": "test-example PyTorch classification Earthquakes.ipynb",
      "provenance": [],
      "collapsed_sections": [],
      "authorship_tag": "ABX9TyOF2H9LvlVr9FWiUUtlviIu",
      "include_colab_link": true
    },
    "kernelspec": {
      "name": "python3",
      "display_name": "Python 3"
    }
  },
  "cells": [
    {
      "cell_type": "markdown",
      "metadata": {
        "id": "view-in-github",
        "colab_type": "text"
      },
      "source": [
        "<a href=\"https://colab.research.google.com/github/IIF0403/Project/blob/master/test_example_PyTorch_classification_Earthquakes.ipynb\" target=\"_parent\"><img src=\"https://colab.research.google.com/assets/colab-badge.svg\" alt=\"Open In Colab\"/></a>"
      ]
    },
    {
      "cell_type": "code",
      "metadata": {
        "id": "QLzwsVbU586d"
      },
      "source": [
        "%reload_ext autoreload\n",
        "%autoreload 2\n",
        "%matplotlib inline\n",
        "\n",
        "import pathlib\n",
        "import numpy as np\n",
        "import torch\n",
        "import torch.nn as nn\n",
        "import torch.nn.functional as F\n",
        "from torch.utils.data import TensorDataset, DataLoader\n",
        "import matplotlib.pyplot as plt\n",
        "from tqdm import tqdm\n",
        "from fastai import *\n",
        "import pandas as pd"
      ],
      "execution_count": null,
      "outputs": []
    },
    {
      "cell_type": "code",
      "metadata": {
        "id": "64Pz3OzwH-py",
        "outputId": "6ec69bc8-4c71-4bd5-9e0e-c0b6041e77cb",
        "colab": {
          "base_uri": "https://localhost:8080/",
          "height": 89
        }
      },
      "source": [
        "\n",
        "!curl -O http://www.timeseriesclassification.com/Downloads/Earthquakes.zip\n"
      ],
      "execution_count": null,
      "outputs": [
        {
          "output_type": "stream",
          "text": [
            "  % Total    % Received % Xferd  Average Speed   Time    Time     Time  Current\n",
            "                                 Dload  Upload   Total   Spent    Left  Speed\n",
            "100  763k  100  763k    0     0   294k      0  0:00:02  0:00:02 --:--:--  294k\n"
          ],
          "name": "stdout"
        }
      ]
    },
    {
      "cell_type": "code",
      "metadata": {
        "id": "JqLHjcl-IB10",
        "outputId": "98218aff-7d13-4a91-8055-8de444d2c91b",
        "colab": {
          "base_uri": "https://localhost:8080/",
          "height": 156
        }
      },
      "source": [
        "!unzip Earthquakes.zip"
      ],
      "execution_count": null,
      "outputs": [
        {
          "output_type": "stream",
          "text": [
            "Archive:  Earthquakes.zip\n",
            "  inflating: Earthquakes.txt         \n",
            "  inflating: Earthquakes_TEST.arff   \n",
            "  inflating: Earthquakes_TEST.txt    \n",
            "  inflating: Earthquakes_TRAIN.arff  \n",
            "  inflating: Earthquakes_TRAIN.txt   \n",
            "  inflating: Earthquakes_TEST.ts     \n",
            "  inflating: Earthquakes_TRAIN.ts    \n"
          ],
          "name": "stdout"
        }
      ]
    },
    {
      "cell_type": "code",
      "metadata": {
        "id": "0CSei0aSINxZ"
      },
      "source": [
        "bs=64\n",
        "DATASET = \"Earthquakes\"\n",
        "classes = 2\n",
        "\n",
        "path = pathlib.Path('')"
      ],
      "execution_count": null,
      "outputs": []
    },
    {
      "cell_type": "code",
      "metadata": {
        "id": "iFV4wUYFIi3I"
      },
      "source": [
        "def one_hot_encode(input, labels):\n",
        "    m = input.shape[0]\n",
        "    output = np.zeros((m, labels), dtype=int)\n",
        "    row_index = np.arange(m)\n",
        "    output[row_index, input] = 1\n",
        "    return output\n",
        "\n",
        "def split_xy(data, classes):\n",
        "    X = data[:, 1:]\n",
        "    y = data[:, 0].astype(int)\n",
        "    # hot encode\n",
        "    #y = one_hot_encode(y, classes)\n",
        "    return X, y\n",
        "\n",
        "def create_dataset(X, y, device):\n",
        "    X_tensor = torch.tensor(X, dtype=torch.float32, device=device)\n",
        "    y_tensor = torch.tensor(y, dtype=torch.long, device=device)\n",
        "    return TensorDataset(X_tensor, y_tensor)\n",
        "\n",
        "def load_data(path, classes):\n",
        "    data = np.loadtxt(path)\n",
        "    return split_xy(data, classes)"
      ],
      "execution_count": null,
      "outputs": []
    },
    {
      "cell_type": "code",
      "metadata": {
        "id": "tW3o2GpaIuRa",
        "outputId": "45a892c5-d89f-4225-9274-91607bb7e4d4",
        "colab": {
          "base_uri": "https://localhost:8080/",
          "height": 86
        }
      },
      "source": [
        "# load training dataset Earthquake\n",
        "X_train, y_train = load_data(path/'Earthquakes_TRAIN.txt', classes) \n",
        "# Shape: (322, 512) og (322, )\n",
        "\n",
        "# load testing dataset\n",
        "X_test, y_test = load_data(path/'Earthquakes_TEST.txt', classes)\n",
        "# Shape: (139, 512) og (139, )\n",
        "\n",
        "\n",
        "print('X_train %s   y_train %s' % (X_train.shape, y_train.shape))\n",
        "print('X_test  %s   y_test  %s' % (X_test.shape, y_test.shape))\n",
        "\n",
        "#As the classes are imbalanced, get count for each class, to use later\n",
        "class_0_count = (y_train==0).sum()\n",
        "class_1_count = (y_train==1).sum()\n",
        "\n",
        "print(\"class_0_count: \",class_0_count)\n",
        "print(\"class_1_count: \",class_1_count)\n"
      ],
      "execution_count": null,
      "outputs": [
        {
          "output_type": "stream",
          "text": [
            "X_train (322, 512)   y_train (322,)\n",
            "X_test  (139, 512)   y_test  (139,)\n",
            "class_0_count:  264\n",
            "class_1_count:  58\n"
          ],
          "name": "stdout"
        }
      ]
    },
    {
      "cell_type": "code",
      "metadata": {
        "id": "m8AGIM-vKbKO",
        "outputId": "a234d543-2f74-4f00-9982-9d9d6bf8411d",
        "colab": {
          "base_uri": "https://localhost:8080/",
          "height": 52
        }
      },
      "source": [
        "device = torch.device(\"cuda\" if torch.cuda.is_available() else \"cpu\")\n",
        "#Load numpy training and test sets into PyTorch Dataset object\n",
        "train_ds = create_dataset(X_train, y_train, device)\n",
        "test_ds  = create_dataset(X_test, y_test, device)\n",
        "\n",
        "print(len(train_ds))\n",
        "print(len(test_ds))\n",
        "\n",
        "#Pass the dataset object into a DataLoader\n",
        "train_dl = DataLoader(train_ds, batch_size = bs, shuffle=False)\n",
        "test_dl = DataLoader(test_ds, batch_size = bs, shuffle=False)"
      ],
      "execution_count": null,
      "outputs": [
        {
          "output_type": "stream",
          "text": [
            "322\n",
            "139\n"
          ],
          "name": "stdout"
        }
      ]
    },
    {
      "cell_type": "code",
      "metadata": {
        "id": "medN0n-2Klg5",
        "outputId": "22eb389e-ffa9-4db2-acfd-4254c65cf23f",
        "colab": {
          "base_uri": "https://localhost:8080/",
          "height": 104
        }
      },
      "source": [
        "#Just checking the sizes\n",
        "train_iter = iter(train_dl)\n",
        "train_x, train_y = train_iter.next()\n",
        "\n",
        "test_iter = iter(test_dl)\n",
        "test_x, test_y = test_iter.next()\n",
        "\n",
        "print(\"Batch_size: \", bs)\n",
        "print(\"x_train shape on PyTorch: \", train_x.size())\n",
        "print(\"y_train shape on PyTorch: \", train_y.size())\n",
        "print(\"x_test shape on PyTorch: \", test_x.size())\n",
        "print(\"y_test shape on PyTorch: \", test_y.size())"
      ],
      "execution_count": null,
      "outputs": [
        {
          "output_type": "stream",
          "text": [
            "Batch_size:  64\n",
            "x_train shape on PyTorch:  torch.Size([64, 512])\n",
            "y_train shape on PyTorch:  torch.Size([64])\n",
            "x_test shape on PyTorch:  torch.Size([64, 512])\n",
            "y_test shape on PyTorch:  torch.Size([64])\n"
          ],
          "name": "stdout"
        }
      ]
    },
    {
      "cell_type": "code",
      "metadata": {
        "id": "tJY78TZ-O67l"
      },
      "source": [
        "class_sample_count = [class_0_count, class_1_count]\n",
        "weights = 1 / torch.Tensor(class_sample_count)\n",
        "sampler = torch.utils.data.sampler.WeightedRandomSampler(weights, bs)\n"
      ],
      "execution_count": null,
      "outputs": []
    },
    {
      "cell_type": "markdown",
      "metadata": {
        "id": "UkI-dsmtQCsc"
      },
      "source": [
        "**Classifier**\n",
        "\n",
        "FCN block: The core component of a FCN is a convolutional block that contains\n",
        "\n",
        "\n",
        "*   Convolutional layer with filter size of 128 or 256\n",
        "*   Batch normalizatopn layer with momentum 0.99 and epsilon 0.001\n",
        "* a ReLU activation at the en dof the block\n",
        "* an optional squeeze excite block\n"
      ]
    },
    {
      "cell_type": "code",
      "metadata": {
        "id": "cfgaqKeQQXfP"
      },
      "source": [
        "class BlockFCNConv(nn.Module):\n",
        "  def __init__(self, in_channel=1, out_channel=128, kernel_size=8, momentum=0.99, epsilon=0.001, squeeze=False):\n",
        "    super().__init__()\n",
        "    self.conv = nn.Conv1d(in_channel, out_channel, kernel_size=kernel_size)\n",
        "    self.batch_norm = nn.BatchNorm1d(num_features=out_channel, eps=epsilon, momentum=momentum)\n",
        "    self.relu = nn.ReLU()\n",
        "  \n",
        "  def forward(self, x):\n",
        "    # input (batch_size, num_variables, time_steps), e.g. (128, 1, 512)\n",
        "    x = self.conv(x)\n",
        "    # input (batch_size, out_channel, L_out)\n",
        "    x = self.batch_norm(x)\n",
        "    # same shape as input\n",
        "    y = self.relu(x)\n",
        "    return y"
      ],
      "execution_count": null,
      "outputs": []
    },
    {
      "cell_type": "markdown",
      "metadata": {
        "id": "RGhHdWziQY4p"
      },
      "source": [
        "The fully convolutional block contains three of these convolutional blocks, used as a feature extractor. Then it uses a global average pooling layer to generate channel_wise statistics"
      ]
    },
    {
      "cell_type": "code",
      "metadata": {
        "id": "T80UNKUOQYGk"
      },
      "source": [
        "class FCN(nn.Module):\n",
        "  def __init__(self, time_steps, channels=[1, 128, 256, 128], kernels=[8, 5, 3], mom=0.99, eps=0.001):\n",
        "    super().__init__()\n",
        "    self.conv1 = BlockFCNConv(channels[0], channels[1], kernels[0], momentum=mom, epsilon=eps, squeeze=True)\n",
        "    self.conv2 = BlockFCNConv(channels[1], channels[2], kernels[1], momentum=mom, epsilon=eps, squeeze=True)\n",
        "    self.conv3 = BlockFCNConv(channels[2], channels[3], kernels[2], momentum=mom, epsilon=eps)\n",
        "    output_size = time_steps - sum(kernels) + len(kernels)\n",
        "    self.global_pooling = nn.AvgPool1d(kernel_size=output_size)\n",
        "\n",
        "  def forward(self, x):\n",
        "    x = self.conv1(x)\n",
        "    x = self.conv2(x)\n",
        "    x = self.conv3(x)\n",
        "    # apply Global Average Pooling 1D\n",
        "    y = self.global_pooling(x)\n",
        "    return y\n"
      ],
      "execution_count": null,
      "outputs": []
    },
    {
      "cell_type": "markdown",
      "metadata": {
        "id": "X7sybm2ZTT0c"
      },
      "source": [
        "If we want a LSTM-FCN:"
      ]
    },
    {
      "cell_type": "code",
      "metadata": {
        "id": "DJC3rFeoTO49"
      },
      "source": [
        "#LSTM block: A shuffle layer + LSTM lauer + dropout layer\n",
        "class BlockLSTM(nn.Module):\n",
        "  def __init__(self, time_steps, num_layers, lstm_hs, dropout=0.8, attention=False):\n",
        "    super().__init__()\n",
        "    self.lstm = nn.LSTM(input_size=time_steps, hidden_size=lstm_hs, num_layers=num_layers)\n",
        "    self.dropout = nn.Dropout(p=dropout)\n",
        "  def forward(self, x):\n",
        "    # input is of the form (batch_size, num_layers, time_steps), e.g. (128, 1, 512)\n",
        "    x = torch.transpose(x, 0, 1)\n",
        "    # lstm layer is of the form (num_layers, batch_size, time_steps)\n",
        "    x, (h_n, c_n) = self.lstm(x)\n",
        "    # dropout layer input shape (Sequence Length, Batch Size, Hidden Size * Num Directions)\n",
        "    y = self.dropout(x)\n",
        "    # output shape is same as Dropout intput\n",
        "    return y\n",
        "\n",
        "#LSTM-FCN\n",
        "class LSTMFCN(nn.Module):\n",
        "  def __init__(self, time_steps, num_variables=1, lstm_hs=256, channels=[1, 128, 256, 128]):\n",
        "    super().__init__()\n",
        "    self.lstm_block = BlockLSTM(time_steps, 1, lstm_hs)\n",
        "    self.fcn_block = FCN(time_steps)\n",
        "    self.dense = nn.Linear(channels[-1] + lstm_hs, num_variables)\n",
        "    self.softmax = nn.LogSoftmax(dim=1) #nn.Softmax(dim=1)\n",
        "  def forward(self, x):\n",
        "    # input is (batch_size, time_steps), it has to be (batch_size, 1, time_steps)\n",
        "    x = x.unsqueeze(1)\n",
        "    # pass input through LSTM block\n",
        "    x1 = self.lstm_block(x)\n",
        "    x1 = torch.squeeze(x1)\n",
        "    # pass input through FCN block\n",
        "    x2 = self.fcn_block(x)\n",
        "    x2 = torch.squeeze(x2)\n",
        "    # concatenate blocks output\n",
        "    x = torch.cat([x1, x2], 1)\n",
        "    # pass through Linear layer\n",
        "    x = self.dense(x)\n",
        "    #x = torch.squeeze(x)\n",
        "    # pass through Softmax activation\n",
        "    y = self.softmax(x)\n",
        "    return y\n"
      ],
      "execution_count": null,
      "outputs": []
    },
    {
      "cell_type": "markdown",
      "metadata": {
        "id": "sEDZx7FVRQ0D"
      },
      "source": [
        "**Training**"
      ]
    },
    {
      "cell_type": "code",
      "metadata": {
        "id": "bPYwmGUyRXPj"
      },
      "source": [
        "time_steps = X_train.shape[1]\n",
        "num_variables = classes\n",
        "\n",
        "#FCN-model\n",
        "#model = FCN(time_steps)#.cuda()\n",
        "\n",
        "#LSTM-FCN-model\n",
        "model = LSTMFCN(time_steps, num_variables)#.cuda()\n",
        "#print(model)"
      ],
      "execution_count": null,
      "outputs": []
    },
    {
      "cell_type": "code",
      "metadata": {
        "id": "STUv_CK9SffW",
        "outputId": "8cc6e833-4cfa-4129-a33b-2d1d3108623f",
        "colab": {
          "base_uri": "https://localhost:8080/",
          "height": 419
        }
      },
      "source": [
        "#model summary\n",
        "for m in model.children():\n",
        "  print(m.training)\n",
        "  for j in m.children():\n",
        "    print(j.training, j)"
      ],
      "execution_count": null,
      "outputs": [
        {
          "output_type": "stream",
          "text": [
            "True\n",
            "True LSTM(512, 256)\n",
            "True Dropout(p=0.8, inplace=False)\n",
            "True\n",
            "True BlockFCNConv(\n",
            "  (conv): Conv1d(1, 128, kernel_size=(8,), stride=(1,))\n",
            "  (batch_norm): BatchNorm1d(128, eps=0.001, momentum=0.99, affine=True, track_running_stats=True)\n",
            "  (relu): ReLU()\n",
            ")\n",
            "True BlockFCNConv(\n",
            "  (conv): Conv1d(128, 256, kernel_size=(5,), stride=(1,))\n",
            "  (batch_norm): BatchNorm1d(256, eps=0.001, momentum=0.99, affine=True, track_running_stats=True)\n",
            "  (relu): ReLU()\n",
            ")\n",
            "True BlockFCNConv(\n",
            "  (conv): Conv1d(256, 128, kernel_size=(3,), stride=(1,))\n",
            "  (batch_norm): BatchNorm1d(128, eps=0.001, momentum=0.99, affine=True, track_running_stats=True)\n",
            "  (relu): ReLU()\n",
            ")\n",
            "True AvgPool1d(kernel_size=(499,), stride=(499,), padding=(0,))\n",
            "True\n",
            "True\n"
          ],
          "name": "stdout"
        }
      ]
    },
    {
      "cell_type": "code",
      "metadata": {
        "id": "xcMHs_wwTDHx",
        "outputId": "127456b6-5803-4d47-a4c7-a87ac98c9b83",
        "colab": {
          "base_uri": "https://localhost:8080/",
          "height": 330
        }
      },
      "source": [
        "#look at weights in each layer\n",
        "[p.shape for p in model.parameters()]"
      ],
      "execution_count": null,
      "outputs": [
        {
          "output_type": "execute_result",
          "data": {
            "text/plain": [
              "[torch.Size([1024, 512]),\n",
              " torch.Size([1024, 256]),\n",
              " torch.Size([1024]),\n",
              " torch.Size([1024]),\n",
              " torch.Size([128, 1, 8]),\n",
              " torch.Size([128]),\n",
              " torch.Size([128]),\n",
              " torch.Size([128]),\n",
              " torch.Size([256, 128, 5]),\n",
              " torch.Size([256]),\n",
              " torch.Size([256]),\n",
              " torch.Size([256]),\n",
              " torch.Size([128, 256, 3]),\n",
              " torch.Size([128]),\n",
              " torch.Size([128]),\n",
              " torch.Size([128]),\n",
              " torch.Size([2, 384]),\n",
              " torch.Size([2])]"
            ]
          },
          "metadata": {
            "tags": []
          },
          "execution_count": 16
        }
      ]
    },
    {
      "cell_type": "markdown",
      "metadata": {
        "id": "ib40GRp-VIOa"
      },
      "source": [
        "Defining a learner class to automate the learning process"
      ]
    },
    {
      "cell_type": "code",
      "metadata": {
        "id": "Cl_Z4JpnVL74"
      },
      "source": [
        "class SimpleLearner():\n",
        "  def __init__(self, data, model, loss_func, wd = 1e-5):\n",
        "    self.data, self.model, self.loss_func = data, model, loss_func\n",
        "    self.wd = wd\n",
        "\n",
        "  def update_manualgrad(self, x,y,lr):\n",
        "    y_hat = self.model(x)\n",
        "    # weight decay\n",
        "    w2 = 0.\n",
        "    for p in model.parameters(): w2 += (p**2).sum()\n",
        "    # add to regular loss\n",
        "    loss = self.loss_func(y_hat, y) + w2 * self.wd\n",
        "    loss.backward()\n",
        "    with torch.no_grad():\n",
        "        for p in model.parameters():\n",
        "            p.sub_(lr * p.grad)\n",
        "            p.grad.zero_()\n",
        "    return loss.item()\n",
        "\n",
        "\n",
        "  def update(self, x,y,lr):\n",
        "    opt = torch.optim.Adam(self.model.parameters(), lr)\n",
        "    y_hat = self.model(x)\n",
        "    loss = self.loss_func(y_hat, y)\n",
        "    loss.backward()\n",
        "    opt.step()\n",
        "    opt.zero_grad()\n",
        "    return loss.item()\n",
        "\n",
        "  def fit(self, epochs=1, lr=1e-3):\n",
        "    #Train the model\n",
        "    losses = []\n",
        "    for i in tqdm(range(epochs)):\n",
        "        for x,y in self.data[0]:\n",
        "            current_loss = self.update(x, y , lr)\n",
        "            losses.append(current_loss)\n",
        "    return losses\n",
        "\n",
        "\n",
        "  def evaluate(self, X):\n",
        "    #Evaluate the given data loader on the model and return predictions\n",
        "    result = None\n",
        "    for x, y in X:\n",
        "        y_hat = self.model(x).detach().numpy()\n",
        "        result = y_hat if result is None else np.concatenate((result, y_hat), axis=0)\n",
        "        predicted = torch.max(output.data,1)\n",
        "    return result\n",
        "  "
      ],
      "execution_count": null,
      "outputs": []
    },
    {
      "cell_type": "markdown",
      "metadata": {
        "id": "rbn28sgqWRY1"
      },
      "source": [
        "loss function"
      ]
    },
    {
      "cell_type": "code",
      "metadata": {
        "id": "h7j61bVqWORf"
      },
      "source": [
        "loss_func = nn.NLLLoss().cuda()\n",
        "#loss_func = nn.CrossEntropyLoss()  \n",
        "#acc_func = accracy_thresh\n",
        "\n",
        "lr = 2e-2\n",
        "learner = SimpleLearner([train_dl, test_dl], model, loss_func)"
      ],
      "execution_count": 53,
      "outputs": []
    },
    {
      "cell_type": "code",
      "metadata": {
        "id": "jmce8CJmZKMj",
        "outputId": "8fed6103-b3d7-4744-eb86-5ef225ae3089",
        "colab": {
          "base_uri": "https://localhost:8080/",
          "height": 300
        }
      },
      "source": [
        "losses = learner.fit(10)\n",
        "plt.plot(losses)"
      ],
      "execution_count": 55,
      "outputs": [
        {
          "output_type": "stream",
          "text": [
            "100%|██████████| 10/10 [00:56<00:00,  5.64s/it]\n"
          ],
          "name": "stderr"
        },
        {
          "output_type": "execute_result",
          "data": {
            "text/plain": [
              "[<matplotlib.lines.Line2D at 0x7f4e6f0ec940>]"
            ]
          },
          "metadata": {
            "tags": []
          },
          "execution_count": 55
        },
        {
          "output_type": "display_data",
          "data": {
            "image/png": "[encoded data removed]",
            "text/plain": [
              "<Figure size 432x288 with 1 Axes>"
            ]
          },
          "metadata": {
            "tags": [],
            "needs_background": "light"
          }
        }
      ]
    },
    {
      "cell_type": "code",
      "metadata": {
        "id": "fSSpad20X8Az",
        "outputId": "4ce9f955-bbed-4efb-d881-8e8ce71c926a",
        "colab": {
          "base_uri": "https://localhost:8080/",
          "height": 34
        }
      },
      "source": [
        "#y_pred = learner.evaluate(X=test_dl)\n",
        "from sklearn.metrics import accuracy_score\n",
        "correct = 0\n",
        "total=0\n",
        "accuracy_list =[]\n",
        "with torch.no_grad():\n",
        "  for x, y in test_dl:\n",
        "    output=model(x)\n",
        "    predicted= torch.max(output.data,1)[1]\n",
        "    accuracy_list.append(accuracy_score(y, predicted))\n",
        "\n",
        "accuracy = np.mean(accuracy_list)\n",
        "print(accuracy)\n",
        "\n",
        "\n"
      ],
      "execution_count": 54,
      "outputs": [
        {
          "output_type": "stream",
          "text": [
            "0.696496212121212\n"
          ],
          "name": "stdout"
        }
      ]
    }
  ]
}