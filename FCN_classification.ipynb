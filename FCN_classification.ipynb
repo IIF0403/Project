{
  "nbformat": 4,
  "nbformat_minor": 0,
  "metadata": {
    "colab": {
      "name": "FCN_classification.ipynb",
      "provenance": [],
      "collapsed_sections": [],
      "authorship_tag": "ABX9TyMknlFUAPLWz08GGXjv8h5X",
      "include_colab_link": true
    },
    "kernelspec": {
      "name": "python3",
      "display_name": "Python 3"
    }
  },
  "cells": [
    {
      "cell_type": "markdown",
      "metadata": {
        "id": "view-in-github",
        "colab_type": "text"
      },
      "source": [
        "<a href=\"https://colab.research.google.com/github/IIF0403/Project/blob/master/FCN_classification.ipynb\" target=\"_parent\"><img src=\"https://colab.research.google.com/assets/colab-badge.svg\" alt=\"Open In Colab\"/></a>"
      ]
    },
    {
      "cell_type": "code",
      "metadata": {
        "id": "M6Hvc5DsYors"
      },
      "source": [
        "%matplotlib inline\n",
        "import numpy as np\n",
        "import pandas as pd \n",
        "import torch\n",
        "import torch.nn as nn\n",
        "import torch.nn.functional as F\n",
        "import matplotlib.pyplot as plt\n",
        "from sklearn.metrics import accuracy_score\n",
        "from sklearn.model_selection import train_test_split\n",
        "from sklearn.metrics import mean_squared_error\n",
        "from google.colab import files\n",
        "from google.colab import output"
      ],
      "execution_count": 9,
      "outputs": []
    },
    {
      "cell_type": "code",
      "metadata": {
        "id": "z6kKBiZfyxYm"
      },
      "source": [
        "seed1 = 14\n",
        "seed2 = 15\n",
        "device = torch.device(\"cuda\" if torch.cuda.is_available() else \"cpu\")\n",
        "\n",
        "#Function to load UCR time_series data\n",
        "def load_data(Dataset):\n",
        "  url_raw = 'https://raw.githubusercontent.com/IIF0403/timeseries/master/data/'\n",
        "  url_train = url_raw + Dataset+'/'+Dataset+'_TRAIN'\n",
        "  url_test = url_raw + Dataset+'/'+Dataset+'_TEST'\n",
        "\n",
        "  data_train = pd.read_csv(url_train,header=None)\n",
        "  data_test = pd.read_csv(url_test, header=None)\n",
        "\n",
        "  data = pd.concat((data_train, data_test))\n",
        "\n",
        "  #Want all datasets to have classes starting from 0\n",
        "  Y = data.values[:,0]\n",
        "  classes = len(np.unique(Y))\n",
        "  Y_transformed = ( (Y-Y.min())/(Y.max()-Y.min()) )*(classes-1)\n",
        "  data[data.columns[0]] = Y_transformed\n",
        "\n",
        "  return data\n",
        "\n",
        "def explore_data(data):\n",
        "  #data = load_data(Dataset)\n",
        "\n",
        "  time_series = data.shape[0]\n",
        "  classes = len( np.unique(data.iloc[:,0]))\n",
        "  T = data.shape[1]-1\n",
        "\n",
        "  #print(\"#: \", time_series)\n",
        "  #print(\"C: \", classes)\n",
        "  #print(\"T: \", T)\n",
        "\n",
        "  return time_series, classes, T\n",
        "\n",
        "#Function prepares data and removes labels from y_train\n",
        "def prepare_data(data, test_data_size=0.2, unlabeled_data_size = 0.9 ):\n",
        "  data = data.sample(frac = 1)  #shuffle the data\n",
        "\n",
        "  #Split data into 80% train data and 20% test data\n",
        "  data_train_before, data_test = train_test_split(data, test_size=test_data_size, random_state=seed1)\n",
        "  \n",
        "  #Split the train data into 90% unlabeled data and 10% labeled data\n",
        "  data_train = data_train_before\n",
        "  while (  len(np.unique(data_train.iloc[:,0])) != (classes+1)  ): #Make sure that all labels are included in the labeled train data\n",
        "    data_train_before = data_train_before.sample(frac=1) #Shuffle the original train data\n",
        "    train_labeled, train_unlabeled = train_test_split(data_train_before, test_size=unlabeled_data_size, random_state=seed2)  \n",
        "    train_unlabeled[train_unlabeled.columns[0]] = -1 #Set labels to -1\n",
        "    train = pd.concat((train_labeled,train_unlabeled))\n",
        "    data_train = train.sample(frac = 1)  #shuffle the train data\n",
        "    #print(\"np unique:\", len(np.unique(data_train.iloc[:,0])))\n",
        "\n",
        "\n",
        "  x_train = data_train.iloc[:,1:].to_numpy()\n",
        "  y_train = data_train.iloc[:,0].to_numpy()\n",
        "  x_test = data_test.iloc[:,1:].to_numpy()\n",
        "  y_test = data_test.iloc[:,0].to_numpy() \n",
        "\n",
        "  x_train=x_train[:,np.newaxis,:] \n",
        "  x_test=x_test[:,np.newaxis,:]\n",
        "\n",
        "\n",
        "  #Torch\n",
        "  x_train = torch.from_numpy(x_train).to(device)\n",
        "  y_train = torch.from_numpy(y_train).to(device)\n",
        "  x_test = torch.from_numpy(x_test).to(device)\n",
        "  y_test = torch.from_numpy(y_test).to(device)\n",
        "\n",
        "  return x_train, y_train, x_test, y_test\n",
        "\n"
      ],
      "execution_count": 10,
      "outputs": []
    },
    {
      "cell_type": "code",
      "metadata": {
        "id": "7RQ_dj8VPB61"
      },
      "source": [
        "#FCN model with only classification\n",
        "class class_model(nn.Module):\n",
        "  def __init__(self, classes):\n",
        "    super(class_model, self).__init__()\n",
        "    self.conv1 = nn.Conv1d(1, 128, 9, padding=(9 // 2))\n",
        "    self.bnorm1 = nn.BatchNorm1d(128)        \n",
        "    self.conv2 = nn.Conv1d(128, 256, 5, padding=(5 // 2))\n",
        "    self.bnorm2 = nn.BatchNorm1d(256)\n",
        "    self.conv3 = nn.Conv1d(256, 128, 3, padding=(3 // 2))\n",
        "    self.bnorm3 = nn.BatchNorm1d(128)        \n",
        "    self.classification_head = nn.Linear(128, classes)\n",
        "\n",
        "  def forward(self, x_class):\n",
        "    b1_class = F.relu(self.bnorm1(self.conv1(x_class)))\n",
        "    b2_class = F.relu(self.bnorm2(self.conv2(b1_class)))\n",
        "    b3_class = F.relu(self.bnorm3(self.conv3(b2_class)))\n",
        "\n",
        "    features_class = torch.mean(b3_class, 2)   \n",
        "    out_class = self.classification_head(features_class)\n",
        "\n",
        "    return out_class\n"
      ],
      "execution_count": 11,
      "outputs": []
    },
    {
      "cell_type": "code",
      "metadata": {
        "id": "6a_uq1yQPIPO"
      },
      "source": [
        "#Some necessary functions\n",
        "\n",
        "#Function to shuffle data\n",
        "def shuffle(X,Y):\n",
        "  index = np.array( [int(i) for i in range(X.shape[0]) ] )\n",
        "  np.random.shuffle(index)\n",
        "  return X[index], Y[index]\n",
        "\n",
        "#Function to export resulting data in Excel file\n",
        "def to_Excel(Results, output_name):\n",
        "  columns = [\"Dataset\",\"dataload\",\"Model\",\"Epochs\", \"alpha\", \"stride\", \"horizon\", \"batch size\", \"Accuracy\", \"Classification loss\", \"Forecasting loss\"]\n",
        "  dataframe = pd.DataFrame(Results, columns = columns)\n",
        "  # create excel writer object\n",
        "  writer = pd.ExcelWriter(output_name)\n",
        "  # write dataframe to excel\n",
        "  dataframe.to_excel(writer)\n",
        "  # save the excel\n",
        "  writer.save()\n",
        "  files.download(output_name)\n",
        "  print('DataFrame is written successfully to Excel File.') \n",
        "\n",
        "#Function to play sound when code is finished\n",
        "def sound():\n",
        "  output.eval_js('new Audio(\"https://upload.wikimedia.org/wikipedia/commons/9/91/Sound4.wav\").play()')\n",
        "\n"
      ],
      "execution_count": 12,
      "outputs": []
    },
    {
      "cell_type": "code",
      "metadata": {
        "id": "VPYJkrNPWQdR",
        "outputId": "b5aa4e8b-b835-4f2d-b2b6-e96ab347f663",
        "colab": {
          "base_uri": "https://localhost:8080/"
        }
      },
      "source": [
        "dataload = 1\n",
        "Datasets = [\"Coffee\", \"CBF\", \"ECG200\", \"FaceFour\",\"ItalyPowerDemand\",\"Lighting7\", \"OliveOil\"]\n",
        "Dataset = Datasets[1]\n",
        "\n",
        "Data = load_data(Dataset)\n",
        "time_series, classes, T = explore_data(Data)\n",
        "x_train, y_train, x_test, y_test = prepare_data(Data)\n",
        "\n",
        "print(\"x_train shape: \", x_train.shape, \"  y_train shape: \",x_train.shape)\n",
        "print(\"x_test shape: \", x_test.shape, \"  y_test shape: \",x_test.shape)\n",
        "\n",
        "\n"
      ],
      "execution_count": 23,
      "outputs": [
        {
          "output_type": "stream",
          "text": [
            "x_train shape:  torch.Size([744, 1, 128])   y_train shape:  torch.Size([744, 1, 128])\n",
            "x_test shape:  torch.Size([186, 1, 128])   y_test shape:  torch.Size([186, 1, 128])\n"
          ],
          "name": "stdout"
        },
        {
          "output_type": "stream",
          "text": [
            "/usr/local/lib/python3.6/dist-packages/ipykernel_launcher.py:49: SettingWithCopyWarning: \n",
            "A value is trying to be set on a copy of a slice from a DataFrame.\n",
            "Try using .loc[row_indexer,col_indexer] = value instead\n",
            "\n",
            "See the caveats in the documentation: https://pandas.pydata.org/pandas-docs/stable/user_guide/indexing.html#returning-a-view-versus-a-copy\n"
          ],
          "name": "stderr"
        }
      ]
    },
    {
      "cell_type": "code",
      "metadata": {
        "id": "Sk57LH02ZgHQ"
      },
      "source": [
        "\n",
        "batch_size = 34\n",
        "max_epochs = 100\n",
        "\n",
        "class_net = class_model(classes).to(device)\n",
        "\n",
        "optimizer_classification = torch.optim.Adam(class_net.parameters(), lr=1e-4)\n",
        "loss_func_classification = nn.CrossEntropyLoss()\n",
        "\n",
        "accuracies_classification = []\n",
        "losses_classification = []\n",
        "\n",
        "x_train_labeled = x_train[y_train!=-1] #the x part of the training set that has a label\n",
        "y_train_labeled = y_train[y_train!=-1] #the y part of the training set that has a label\n",
        "\n",
        "N_L = x_train_labeled.shape[0]\n",
        "\n",
        "print(N_L)\n",
        "\n",
        "print(\"Dataset: \", Dataset)\n",
        "for e in range(max_epochs):\n",
        "  x_train, y_train = shuffle(x_train,y_train) #Shuffle training data\n",
        "\n",
        "  x_train_labeled = x_train[y_train!=-1] #the x part of the training set that has a label\n",
        "  y_train_labeled = y_train[y_train!=-1] #the y part of the training set that has a label\n",
        "\n",
        "  for i in range(0, N_L, batch_size):\n",
        "    if ( i+batch_size <= x_train_labeled.shape[0]):\n",
        "      x_batch = x_train_labeled[i:i+batch_size]\n",
        "      y_batch = y_train_labeled[i:i+batch_size]\n",
        "    else:\n",
        "      x_batch = x_train_labeled[i:]\n",
        "      y_batch = y_train_labeled[i:]\n",
        "\n",
        "    y_hat = class_net(x_train_labeled.float())\n",
        "\n",
        "    loss_cl = loss_func_classification(y_hat, y_train_labeled.long())\n",
        "\n",
        "    optimizer_classification.zero_grad()\n",
        "    loss_cl.backward()\n",
        "    optimizer_classification.step()\n",
        "\n",
        "    loss_classification = loss_cl.item()\n",
        "    losses_classification.append(loss_classification)\n",
        "\n",
        "  y_hat_classsification = class_net(x_test.float())\n",
        "  predicted_classification = torch.max(y_hat_classsification,1)[1]\n",
        "\n",
        "  accuracy_classification = accuracy_score(y_test, predicted_classification) \n",
        "  accuracies_classification.append(accuracy_classification)\n",
        "\n",
        "  avg_loss_classification = np.mean(losses_classification)\n",
        "\n",
        "  print(\"----------------------\")\n",
        "  print(\"E: \", e, \" Acc: \", accuracy_classification, \"bs: \", batch_size)\n",
        "\n",
        "  if accuracy_classification==1.0:\n",
        "    break;\n",
        "\n",
        "result = [Dataset, dataload, \"Classification\", e+1, -1, -1, -1, batch_size, max(accuracies_classification),avg_loss_classification, -1, lr]\n",
        "print(result)\n"
      ],
      "execution_count": null,
      "outputs": []
    }
  ]
}