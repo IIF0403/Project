{
  "nbformat": 4,
  "nbformat_minor": 0,
  "metadata": {
    "colab": {
      "name": "LSTM_FCN_classifier for UCR timeseries.ipynb",
      "provenance": [],
      "collapsed_sections": [],
      "authorship_tag": "ABX9TyN7EpTE66hYMriiluvzJrn6",
      "include_colab_link": true
    },
    "kernelspec": {
      "name": "python3",
      "display_name": "Python 3"
    }
  },
  "cells": [
    {
      "cell_type": "markdown",
      "metadata": {
        "id": "view-in-github",
        "colab_type": "text"
      },
      "source": [
        "<a href=\"https://colab.research.google.com/github/IIF0403/Project/blob/master/LSTM_FCN_classifier_for_UCR_timeseries.ipynb\" target=\"_parent\"><img src=\"https://colab.research.google.com/assets/colab-badge.svg\" alt=\"Open In Colab\"/></a>"
      ]
    },
    {
      "cell_type": "code",
      "metadata": {
        "id": "3HIruyTVNMQ8"
      },
      "source": [
        "#%reload_ext autoreload\n",
        "#%autoreload 2\n",
        "%matplotlib inline\n",
        "\n",
        "import pathlib\n",
        "import numpy as np\n",
        "import torch\n",
        "import torch.nn as nn\n",
        "import torch.nn.functional as F\n",
        "from torch.utils.data import TensorDataset, DataLoader\n",
        "import matplotlib.pyplot as plt\n",
        "from tqdm import tqdm\n",
        "import pandas as pd\n",
        "#from sklearn.metrics import accuracy_score\n"
      ],
      "execution_count": 332,
      "outputs": []
    },
    {
      "cell_type": "code",
      "metadata": {
        "id": "mN_ZXcF0NY_l"
      },
      "source": [
        "def load_data(Dataset): #Function for loading the data saved in github\n",
        "  url_raw = 'https://raw.githubusercontent.com/IIF0403/timeseries/master/data/' \n",
        "  \n",
        "  url_train = url_raw + Dataset+'/'+Dataset+'_TRAIN'\n",
        "  data_train = pd.read_csv(url_train)\n",
        "  x_train = data_train.iloc[:,1:].to_numpy()\n",
        "  y_train = data_train.iloc[:,0].to_numpy()\n",
        "  \n",
        "  url_test = url_raw + Dataset+'/'+Dataset+'_TEST'\n",
        "  data_test = pd.read_csv(url_test)\n",
        "  x_test = data_test.iloc[:,1:].to_numpy()\n",
        "  y_test = data_test.iloc[:,0].to_numpy() \n",
        "\n",
        "  return x_train, y_train, x_test, y_test\n",
        "\n",
        "def create_dataset(X, y, device):\n",
        "  X_tensor = torch.tensor(X, dtype=torch.float32, device=device)\n",
        "\n",
        "  #Some of the datasets has classes starting from 1, need them to start from 0\n",
        "  if ( ((y_train==0).sum())==0 ): #If there is no class 0\n",
        "    y_tensor = torch.tensor(y, dtype=torch.long, device=device)-1\n",
        "  else:\n",
        "    y_tensor = torch.tensor(y, dtype=torch.long, device=device)\n",
        "\n",
        "  return TensorDataset(X_tensor, y_tensor)\n",
        "\n"
      ],
      "execution_count": 319,
      "outputs": []
    },
    {
      "cell_type": "markdown",
      "metadata": {
        "id": "YIFN3U4dnchY"
      },
      "source": [
        ""
      ]
    },
    {
      "cell_type": "code",
      "metadata": {
        "id": "LlRkwAl5N5AN",
        "outputId": "126f5a35-bab3-47e0-a891-643aeb7fe227",
        "colab": {
          "base_uri": "https://localhost:8080/",
          "height": 52
        }
      },
      "source": [
        "#dataset = \"Adiac\"\n",
        "dataset= \"ArrowHead\"\n",
        "#dataset= \"Beef\"\n",
        "\n",
        "\n",
        "X_train, y_train, X_test, y_test = load_data(dataset)\n",
        "\n",
        "print('X_train %s   y_train %s' % (X_train.shape, y_train.shape))\n",
        "print('X_test  %s   y_test  %s' % (X_test.shape, y_test.shape))\n",
        "\n",
        "#Hva burde man ha som batch size ??\n",
        "#bs=64\n",
        "bs = 29\n",
        "classes = len(np.unique(y_train))\n",
        "\n",
        "#list with count for each class in train_set, class_count[i] = count for class i \n",
        "#class_count = [(y_train == i).sum() for i in range(classes+1)]\n",
        "\n",
        "device = torch.device(\"cuda\" if torch.cuda.is_available() else \"cpu\")\n",
        "\n",
        "#Load training and test sets into PyTorch Dataset object\n",
        "train_ds = create_dataset(X_train, y_train, device)\n",
        "test_ds  = create_dataset(X_test, y_test, device)\n",
        "\n",
        "\n",
        "#Pass dataset object into DataLoader\n",
        "train_dl = DataLoader(train_ds, batch_size = bs, shuffle=False)\n",
        "test_dl = DataLoader(test_ds, batch_size = bs, shuffle=False)\n",
        "\n"
      ],
      "execution_count": 333,
      "outputs": [
        {
          "output_type": "stream",
          "text": [
            "X_train (35, 251)   y_train (35,)\n",
            "X_test  (174, 251)   y_test  (174,)\n"
          ],
          "name": "stdout"
        }
      ]
    },
    {
      "cell_type": "code",
      "metadata": {
        "id": "medN0n-2Klg5",
        "outputId": "e2040ee4-0adf-47fe-966c-1e81654ef673",
        "colab": {
          "base_uri": "https://localhost:8080/",
          "height": 364
        }
      },
      "source": [
        "#Just checking the sizes\n",
        "print(\"Batch_size: \", bs)  \n",
        "\n",
        "for x , y in train_dl:\n",
        "  print(\"x_train shape on PyTorch: \", x.size())\n",
        "  print(\"y_train shape on PyTorch: \", y.size())\n",
        "  print(y)\n",
        "\n",
        "for x, y in test_dl:\n",
        "  print(\"x_test shape on PyTorch: \", x.size())\n",
        "  print(\"y_test shape on PyTorch: \", y.size())"
      ],
      "execution_count": 334,
      "outputs": [
        {
          "output_type": "stream",
          "text": [
            "Batch_size:  29\n",
            "x_train shape on PyTorch:  torch.Size([29, 251])\n",
            "y_train shape on PyTorch:  torch.Size([29])\n",
            "tensor([1, 2, 0, 1, 2, 0, 1, 2, 0, 1, 2, 0, 1, 2, 0, 1, 2, 0, 1, 2, 0, 1, 2, 0,\n",
            "        1, 2, 0, 1, 2])\n",
            "x_train shape on PyTorch:  torch.Size([6, 251])\n",
            "y_train shape on PyTorch:  torch.Size([6])\n",
            "tensor([0, 1, 2, 0, 1, 2])\n",
            "x_test shape on PyTorch:  torch.Size([29, 251])\n",
            "y_test shape on PyTorch:  torch.Size([29])\n",
            "x_test shape on PyTorch:  torch.Size([29, 251])\n",
            "y_test shape on PyTorch:  torch.Size([29])\n",
            "x_test shape on PyTorch:  torch.Size([29, 251])\n",
            "y_test shape on PyTorch:  torch.Size([29])\n",
            "x_test shape on PyTorch:  torch.Size([29, 251])\n",
            "y_test shape on PyTorch:  torch.Size([29])\n",
            "x_test shape on PyTorch:  torch.Size([29, 251])\n",
            "y_test shape on PyTorch:  torch.Size([29])\n",
            "x_test shape on PyTorch:  torch.Size([29, 251])\n",
            "y_test shape on PyTorch:  torch.Size([29])\n"
          ],
          "name": "stdout"
        }
      ]
    },
    {
      "cell_type": "markdown",
      "metadata": {
        "id": "NfRV_uv2UCwv"
      },
      "source": [
        "**Classifier**\n",
        "\n",
        "FCN block: The core component of a FCN is a convolutional block that contains\n",
        "\n",
        "\n",
        "*   Convolutional layer with filter size of 128 or 256\n",
        "*   Batch normalizatopn layer with momentum 0.99 and epsilon 0.001\n",
        "* a ReLU activation at the en dof the block\n",
        "* an optional squeeze excite block"
      ]
    },
    {
      "cell_type": "code",
      "metadata": {
        "id": "cfgaqKeQQXfP"
      },
      "source": [
        "class BlockFCNConv(nn.Module):\n",
        "  def __init__(self, in_channel=1, out_channel=128, kernel_size=8, momentum=0.99, epsilon=0.001, squeeze=False):\n",
        "    super().__init__()\n",
        "    self.conv = nn.Conv1d(in_channel, out_channel, kernel_size=kernel_size)\n",
        "    self.batch_norm = nn.BatchNorm1d(num_features=out_channel, eps=epsilon, momentum=momentum)\n",
        "    self.relu = nn.ReLU()\n",
        "  \n",
        "  def forward(self, x):\n",
        "    # input (batch_size, num_variables, time_steps), e.g. (128, 1, 512)\n",
        "    x = self.conv(x)\n",
        "    # input (batch_size, out_channel, L_out)\n",
        "    x = self.batch_norm(x)\n",
        "    # same shape as input\n",
        "    y = self.relu(x)\n",
        "    return y"
      ],
      "execution_count": 348,
      "outputs": []
    },
    {
      "cell_type": "markdown",
      "metadata": {
        "id": "lzzHPUWsKeag"
      },
      "source": [
        "The fully convolutional block contains three of these convolutional blocks, used as a feature extractor. Then it uses a global average pooling layer to generate channel_wise statistics"
      ]
    },
    {
      "cell_type": "code",
      "metadata": {
        "id": "T80UNKUOQYGk"
      },
      "source": [
        "class BlockFCN(nn.Module):\n",
        "  def __init__(self, time_steps, channels=[1, 128, 256, 128], kernels=[8, 5, 3], mom=0.99, eps=0.001):\n",
        "    super().__init__()\n",
        "    self.conv1 = BlockFCNConv(channels[0], channels[1], kernels[0], momentum=mom, epsilon=eps, squeeze=True)\n",
        "    self.conv2 = BlockFCNConv(channels[1], channels[2], kernels[1], momentum=mom, epsilon=eps, squeeze=True)\n",
        "    self.conv3 = BlockFCNConv(channels[2], channels[3], kernels[2], momentum=mom, epsilon=eps)\n",
        "    output_size = time_steps - sum(kernels) + len(kernels)\n",
        "    self.global_pooling = nn.AvgPool1d(kernel_size=output_size)\n",
        "\n",
        "  def forward(self, x):\n",
        "    x = self.conv1(x)\n",
        "    x = self.conv2(x)\n",
        "    x = self.conv3(x)\n",
        "    # apply Global Average Pooling 1D\n",
        "    y = self.global_pooling(x)\n",
        "    return y\n"
      ],
      "execution_count": 347,
      "outputs": []
    },
    {
      "cell_type": "code",
      "metadata": {
        "id": "DJC3rFeoTO49"
      },
      "source": [
        "#LSTM block: A shuffle layer + LSTM lauer + dropout layer\n",
        "class BlockLSTM(nn.Module):\n",
        "  def __init__(self, time_steps, num_layers, lstm_hs, dropout=0.8, attention=False):\n",
        "    super().__init__()\n",
        "    self.lstm = nn.LSTM(input_size=time_steps, hidden_size=lstm_hs, num_layers=num_layers)\n",
        "    self.dropout = nn.Dropout(p=dropout)\n",
        "  def forward(self, x):\n",
        "    # input is of the form (batch_size, num_layers, time_steps), e.g. (128, 1, 512)\n",
        "    x = torch.transpose(x, 0, 1)\n",
        "    # lstm layer is of the form (num_layers, batch_size, time_steps)\n",
        "    x, (h_n, c_n) = self.lstm(x)\n",
        "    # dropout layer input shape (Sequence Length, Batch Size, Hidden Size * Num Directions)\n",
        "    y = self.dropout(x)\n",
        "    # output shape is same as Dropout intput\n",
        "    return y\n",
        "\n",
        "#LSTM-FCN\n",
        "class LSTMFCN(nn.Module):\n",
        "  def __init__(self, time_steps, num_variables=1, lstm_hs=256, channels=[1, 128, 256, 128]):\n",
        "    super().__init__()\n",
        "    self.lstm_block = BlockLSTM(time_steps, 1, lstm_hs)\n",
        "    self.fcn_block = BlockFCN(time_steps)\n",
        "    self.dense = nn.Linear(channels[-1] + lstm_hs, num_variables)\n",
        "    self.softmax = nn.LogSoftmax(dim=1) #nn.Softmax(dim=1)\n",
        "  def forward(self, x):\n",
        "    # input is (batch_size, time_steps), it has to be (batch_size, 1, time_steps)\n",
        "    x = x.unsqueeze(1)\n",
        "    # pass input through LSTM block\n",
        "    x1 = self.lstm_block(x)\n",
        "    x1 = torch.squeeze(x1)\n",
        "    # pass input through FCN block\n",
        "    x2 = self.fcn_block(x)\n",
        "    x2 = torch.squeeze(x2)\n",
        "    # concatenate blocks output\n",
        "    x = torch.cat([x1, x2], 1)\n",
        "    # pass through Linear layer\n",
        "    x = self.dense(x)\n",
        "    #x = torch.squeeze(x)\n",
        "    # pass through Softmax activation\n",
        "    y = self.softmax(x)\n",
        "    return y\n"
      ],
      "execution_count": 349,
      "outputs": []
    },
    {
      "cell_type": "code",
      "metadata": {
        "id": "bPYwmGUyRXPj",
        "outputId": "ff744c63-7dfa-4b7b-ece0-c7eff3d69084",
        "colab": {
          "base_uri": "https://localhost:8080/",
          "height": 34
        }
      },
      "source": [
        "time_steps = X_train.shape[1]\n",
        "num_variables = classes\n",
        "print(num_variables)\n",
        "\n",
        "#FCN-model\n",
        "#model = FCN(time_steps)#.cuda()\n",
        "\n",
        "#LSTM-FCN-model\n",
        "model = LSTMFCN(time_steps, num_variables)#.cuda()\n",
        "#print(model)"
      ],
      "execution_count": 338,
      "outputs": [
        {
          "output_type": "stream",
          "text": [
            "3\n"
          ],
          "name": "stdout"
        }
      ]
    },
    {
      "cell_type": "code",
      "metadata": {
        "id": "STUv_CK9SffW",
        "outputId": "7161e85e-c67f-45d4-ffd0-7a2882150513",
        "colab": {
          "base_uri": "https://localhost:8080/",
          "height": 419
        }
      },
      "source": [
        "#model summary\n",
        "for m in model.children():\n",
        "  print(m.training)\n",
        "  for j in m.children():\n",
        "    print(j.training, j)"
      ],
      "execution_count": 339,
      "outputs": [
        {
          "output_type": "stream",
          "text": [
            "True\n",
            "True LSTM(251, 256)\n",
            "True Dropout(p=0.8, inplace=False)\n",
            "True\n",
            "True BlockFCNConv(\n",
            "  (conv): Conv1d(1, 128, kernel_size=(8,), stride=(1,))\n",
            "  (batch_norm): BatchNorm1d(128, eps=0.001, momentum=0.99, affine=True, track_running_stats=True)\n",
            "  (relu): ReLU()\n",
            ")\n",
            "True BlockFCNConv(\n",
            "  (conv): Conv1d(128, 256, kernel_size=(5,), stride=(1,))\n",
            "  (batch_norm): BatchNorm1d(256, eps=0.001, momentum=0.99, affine=True, track_running_stats=True)\n",
            "  (relu): ReLU()\n",
            ")\n",
            "True BlockFCNConv(\n",
            "  (conv): Conv1d(256, 128, kernel_size=(3,), stride=(1,))\n",
            "  (batch_norm): BatchNorm1d(128, eps=0.001, momentum=0.99, affine=True, track_running_stats=True)\n",
            "  (relu): ReLU()\n",
            ")\n",
            "True AvgPool1d(kernel_size=(238,), stride=(238,), padding=(0,))\n",
            "True\n",
            "True\n"
          ],
          "name": "stdout"
        }
      ]
    },
    {
      "cell_type": "code",
      "metadata": {
        "id": "xcMHs_wwTDHx",
        "outputId": "9ec8b059-d37f-4091-8c72-9e83c393d14a",
        "colab": {
          "base_uri": "https://localhost:8080/",
          "height": 330
        }
      },
      "source": [
        "#look at weights in each layer\n",
        "[p.shape for p in model.parameters()]"
      ],
      "execution_count": 340,
      "outputs": [
        {
          "output_type": "execute_result",
          "data": {
            "text/plain": [
              "[torch.Size([1024, 251]),\n",
              " torch.Size([1024, 256]),\n",
              " torch.Size([1024]),\n",
              " torch.Size([1024]),\n",
              " torch.Size([128, 1, 8]),\n",
              " torch.Size([128]),\n",
              " torch.Size([128]),\n",
              " torch.Size([128]),\n",
              " torch.Size([256, 128, 5]),\n",
              " torch.Size([256]),\n",
              " torch.Size([256]),\n",
              " torch.Size([256]),\n",
              " torch.Size([128, 256, 3]),\n",
              " torch.Size([128]),\n",
              " torch.Size([128]),\n",
              " torch.Size([128]),\n",
              " torch.Size([3, 384]),\n",
              " torch.Size([3])]"
            ]
          },
          "metadata": {
            "tags": []
          },
          "execution_count": 340
        }
      ]
    },
    {
      "cell_type": "code",
      "metadata": {
        "id": "Cl_Z4JpnVL74"
      },
      "source": [
        "class SimpleLearner():\n",
        "  def __init__(self, data, model, loss_func, wd = 1e-5):\n",
        "    self.data, self.model, self.loss_func = data, model, loss_func\n",
        "    self.wd = wd\n",
        "\n",
        "  def update(self, x,y,lr):\n",
        "    opt = torch.optim.Adam(self.model.parameters(), lr)\n",
        "    y_hat = self.model(x)\n",
        "    loss = self.loss_func(y_hat, y)  \n",
        "    loss.backward()\n",
        "    opt.step()\n",
        "    opt.zero_grad()\n",
        "    return loss.item()\n",
        "\n",
        "  def fit(self, epochs=1, lr=1e-3):\n",
        "    #Train the model\n",
        "    losses = []\n",
        "    model.train()\n",
        "    for i in tqdm(range(epochs)):\n",
        "      for x,y in self.data:\n",
        "        current_loss = self.update(x, y , lr)\n",
        "        losses.append(current_loss)\n",
        "    return losses"
      ],
      "execution_count": 341,
      "outputs": []
    },
    {
      "cell_type": "markdown",
      "metadata": {
        "id": "v8N3APD4Kmw4"
      },
      "source": [
        "Specify Loss Function and Optimizer. \n",
        "cross-Entropy loss is recommended for classification. nn.CrossEntropyLoss() applies a softmax function to the output layer and then calculates the log loss"
      ]
    },
    {
      "cell_type": "code",
      "metadata": {
        "id": "h7j61bVqWORf"
      },
      "source": [
        "#loss_func = nn.NLLLoss().cuda()\n",
        "loss_func = nn.CrossEntropyLoss() \n",
        "\n",
        "lr = 2e-2\n",
        "learner = SimpleLearner(train_dl, model, loss_func)"
      ],
      "execution_count": 342,
      "outputs": []
    },
    {
      "cell_type": "code",
      "metadata": {
        "id": "jmce8CJmZKMj",
        "outputId": "72ae6d3b-8e21-4432-e4b5-eb0a89796517",
        "colab": {
          "base_uri": "https://localhost:8080/",
          "height": 300
        }
      },
      "source": [
        "epochs = 10\n",
        "losses = learner.fit(epochs)\n",
        "plt.plot(losses)"
      ],
      "execution_count": 345,
      "outputs": [
        {
          "output_type": "stream",
          "text": [
            "100%|██████████| 100/100 [00:38<00:00,  2.60it/s]\n"
          ],
          "name": "stderr"
        },
        {
          "output_type": "execute_result",
          "data": {
            "text/plain": [
              "[<matplotlib.lines.Line2D at 0x7f24d3a06a20>]"
            ]
          },
          "metadata": {
            "tags": []
          },
          "execution_count": 345
        },
        {
          "output_type": "display_data",
          "data": {
            "image/png": "[encoded data removed]",
            "text/plain": [
              "<Figure size 432x288 with 1 Axes>"
            ]
          },
          "metadata": {
            "tags": [],
            "needs_background": "light"
          }
        }
      ]
    },
    {
      "cell_type": "markdown",
      "metadata": {
        "id": "1y6hPvQQg4JM"
      },
      "source": [
        "**Evaluating model**"
      ]
    },
    {
      "cell_type": "code",
      "metadata": {
        "id": "7uUBMGR2HKen",
        "outputId": "1b66b14e-ad74-4582-ee97-be6902abc86a",
        "colab": {
          "base_uri": "https://localhost:8080/",
          "height": 52
        }
      },
      "source": [
        "\n",
        "#Function that calculates accuracy\n",
        "def accuracy_score(y, predicted):\n",
        "  correct = sum([y[i]==predicted[i] for i in range(len(y))]).item()\n",
        "  total = y.size(0)\n",
        "  return correct/total\n",
        "\n",
        "model.eval()\n",
        "test_losses = []\n",
        "accuracy_list=[]\n",
        "with torch.no_grad():\n",
        "  for x, y in test_dl:\n",
        "    output = model(x)\n",
        "    loss = loss_func(output, y) #test loss\n",
        "    test_losses.append(loss.item())\n",
        "    predicted = torch.max(output.data,1)[1]\n",
        "    accuracy_list.append(my_accuracy_score(y, predicted) )\n",
        "\n",
        "\n",
        "accuracy = np.mean(accuracy_list)\n",
        "test_loss_mean = np.mean(test_losses)\n",
        "\n",
        "print(\"Accuracy: \", accuracy)\n",
        "print(\"Test_loss: \", test_loss_mean)\n"
      ],
      "execution_count": 346,
      "outputs": [
        {
          "output_type": "stream",
          "text": [
            "Accuracy:  0.8218390804597702\n",
            "Test_loss:  0.4417245263854663\n"
          ],
          "name": "stdout"
        }
      ]
    }
  ]
}