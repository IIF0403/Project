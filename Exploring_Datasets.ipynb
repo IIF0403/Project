{
  "nbformat": 4,
  "nbformat_minor": 0,
  "metadata": {
    "colab": {
      "name": "Exploring_Datasets.ipynb",
      "provenance": [],
      "collapsed_sections": [],
      "authorship_tag": "ABX9TyOkA8YTMqujp3T2vmIBq3J6",
      "include_colab_link": true
    },
    "kernelspec": {
      "name": "python3",
      "display_name": "Python 3"
    }
  },
  "cells": [
    {
      "cell_type": "markdown",
      "metadata": {
        "id": "view-in-github",
        "colab_type": "text"
      },
      "source": [
        "<a href=\"https://colab.research.google.com/github/IIF0403/Project/blob/master/Exploring_Datasets.ipynb\" target=\"_parent\"><img src=\"https://colab.research.google.com/assets/colab-badge.svg\" alt=\"Open In Colab\"/></a>"
      ]
    },
    {
      "cell_type": "code",
      "metadata": {
        "id": "VRfy7sSTlAQc"
      },
      "source": [
        "import pandas as pd\n",
        "import numpy as np\n",
        "import torch\n",
        "from torch.utils.data import TensorDataset, DataLoader\n",
        "import matplotlib.pyplot as plt"
      ],
      "execution_count": 40,
      "outputs": []
    },
    {
      "cell_type": "markdown",
      "metadata": {
        "id": "6ImgVJQEiplW"
      },
      "source": [
        "Using the UCR time series Classification Archive. \n",
        "https://www.cs.ucr.edu/~eamonn/time_series_data/  \\\n",
        "\n",
        "Each dataset is split in a TRAIN dataset and a TEST dataset. (For example \"Adiac_TRAIN\" and \"Adiac_TEST\"). The two datasets are on the same format, but of different sizes.  \n",
        "\n",
        "Each row is a data instance. The first value is the class label and the rest of the row are data values to an individual time series. \n",
        "\n",
        "Yi = class label of timeseries i ( an integer between 1 and the number of classes) \n",
        "\n",
        "Xi = the individual time series i, with the class label Yi\n",
        "\n",
        "**Loading the data**"
      ]
    },
    {
      "cell_type": "code",
      "metadata": {
        "id": "sPc7g0825QlF"
      },
      "source": [
        "\n",
        "def load_data(Dataset): #Function for loading the data saved in github\n",
        "  url_raw = 'https://raw.githubusercontent.com/IIF0403/timeseries/master/data/' \n",
        "  \n",
        "  url_train = url_raw + Dataset+'/'+Dataset+'_TRAIN'\n",
        "  data_train = pd.read_csv(url_train)\n",
        "  x_train = data_train.iloc[:,1:].to_numpy()\n",
        "  y_train = data_train.iloc[:,0].to_numpy()\n",
        "  \n",
        "  url_test = url_raw + Dataset+'/'+Dataset+'_TEST'\n",
        "  data_test = pd.read_csv(url_test)\n",
        "  x_test = data_test.iloc[:,1:].to_numpy()\n",
        "  y_test = data_test.iloc[:,0].to_numpy() \n",
        "\n",
        "  return x_train, y_train, x_test, y_test\n"
      ],
      "execution_count": 41,
      "outputs": []
    },
    {
      "cell_type": "markdown",
      "metadata": {
        "id": "6MaiauHRChfY"
      },
      "source": [
        "**Exploring and understanding the data** \\\\\n",
        "Using the dataset \"Adaic\""
      ]
    },
    {
      "cell_type": "code",
      "metadata": {
        "id": "X711uYR_N1tB",
        "outputId": "fc6fb7b4-fa8f-46d9-d325-f1bd0571c75f",
        "colab": {
          "base_uri": "https://localhost:8080/",
          "height": 86
        }
      },
      "source": [
        "dataset = \"Adiac\"\n",
        "#dataset= \"ArrowHead\"\n",
        "#dataset= \"Beef\"\n",
        "\n",
        "x_train, y_train, x_test, y_test = load_data(dataset)\n",
        "\n",
        "print(x_train.shape)\n",
        "print(y_train.shape)\n",
        "print(x_test.shape)\n",
        "print(y_test.shape)"
      ],
      "execution_count": 42,
      "outputs": [
        {
          "output_type": "stream",
          "text": [
            "(389, 176)\n",
            "(389,)\n",
            "(390, 176)\n",
            "(390,)\n"
          ],
          "name": "stdout"
        }
      ]
    },
    {
      "cell_type": "code",
      "metadata": {
        "id": "sFqBDNpYTYQf",
        "outputId": "598a3f91-d6c5-455a-ca76-95a6d5fc3d50",
        "colab": {
          "base_uri": "https://localhost:8080/",
          "height": 86
        }
      },
      "source": [
        "\n",
        "N_train = y_train.shape[0] # individual time series in the train dataset\n",
        "N_test = y_test.shape[0] #individual time series in the test dataset\n",
        "M = x_train.shape[1] # datapoints in each time series (same for train and test)\n",
        "class_labels = len(np.unique(y_train)) # number of class labels ( same for train and test) denne er feil\n",
        "\n",
        "print(\"N_train:\",N_train)\n",
        "print(\"M:\",M)\n",
        "print(\"class_labels:\",class_labels) \n",
        "print(\"N_test:\",N_test)"
      ],
      "execution_count": 43,
      "outputs": [
        {
          "output_type": "stream",
          "text": [
            "N_train: 389\n",
            "M: 176\n",
            "class_labels: 37\n",
            "N_test: 390\n"
          ],
          "name": "stdout"
        }
      ]
    },
    {
      "cell_type": "markdown",
      "metadata": {
        "id": "f61uH27Ii5ew"
      },
      "source": [
        "For example, the \"Adiac_TRAIN\" dataset has 389 individual time series with 176 datapoints in each time series. \n",
        "The \"Adiac_TEST\" dataset has 390 individual time series. The class_labels are teh integers from 1 to 37"
      ]
    },
    {
      "cell_type": "code",
      "metadata": {
        "id": "644ju9oyEPjQ",
        "outputId": "9ee82701-77e3-4e27-9bdf-8603fc25c189",
        "colab": {
          "base_uri": "https://localhost:8080/",
          "height": 265
        }
      },
      "source": [
        "import matplotlib.pyplot as plt\n",
        "\n",
        "#Plotting some of the time series to see what they look like\n",
        "plt.figure()\n",
        "for i in range(0,N_train-1, 70):\n",
        "  plt.plot(x_train[i])\n",
        "  "
      ],
      "execution_count": 44,
      "outputs": [
        {
          "output_type": "display_data",
          "data": {
            "image/png": "[encoded data removed]",
            "text/plain": [
              "<Figure size 432x288 with 1 Axes>"
            ]
          },
          "metadata": {
            "tags": [],
            "needs_background": "light"
          }
        }
      ]
    },
    {
      "cell_type": "markdown",
      "metadata": {
        "id": "KmibOFjLkleI"
      },
      "source": [
        "Loading training and test sets into PyTorch Dataset object and passing the dataset into Dataloader"
      ]
    },
    {
      "cell_type": "code",
      "metadata": {
        "id": "vDy6tXPWk0A0"
      },
      "source": [
        "def create_dataset(X, y, device):\n",
        "  X_tensor = torch.tensor(X, dtype=torch.float32, device=device)\n",
        "\n",
        "  #Some of the datasets has classes starting from 1, need them to start from 0\n",
        "  if ( ((y_train==0).sum())==0 ): #If there is no class 0\n",
        "    y_tensor = torch.tensor(y, dtype=torch.long, device=device)-1\n",
        "  else:\n",
        "    y_tensor = torch.tensor(y, dtype=torch.long, device=device)\n",
        "\n",
        "  return TensorDataset(X_tensor, y_tensor)\n",
        "\n",
        "device = torch.device(\"cuda\" if torch.cuda.is_available() else \"cpu\")\n",
        "\n",
        "#Load training and test sets into PyTorch Dataset object\n",
        "train_ds = create_dataset(x_train, y_train, device)\n",
        "test_ds  = create_dataset(x_test, y_test, device)\n",
        "\n",
        "bs= 64 #Batch size\n",
        "\n",
        "#Pass dataset object into DataLoader\n",
        "train_dl = DataLoader(train_ds, batch_size = bs, shuffle=False)\n",
        "test_dl = DataLoader(test_ds, batch_size = bs, shuffle=False)\n",
        "\n"
      ],
      "execution_count": 45,
      "outputs": []
    },
    {
      "cell_type": "code",
      "metadata": {
        "id": "medN0n-2Klg5",
        "outputId": "55283ab5-520c-4e13-cf40-a205e1201ccf",
        "colab": {
          "base_uri": "https://localhost:8080/",
          "height": 521
        }
      },
      "source": [
        "#Checking the sizes\n",
        "print(\"Batch_size: \", bs)  \n",
        "\n",
        "for x , y in train_dl:\n",
        "  print(\"x_train shape on PyTorch: \", x.size())\n",
        "  print(\"y_train shape on PyTorch: \", y.size())\n",
        "\n",
        "for x, y in test_dl:\n",
        "  print(\"x_test shape on PyTorch: \", x.size())\n",
        "  print(\"y_test shape on PyTorch: \", y.size())"
      ],
      "execution_count": 46,
      "outputs": [
        {
          "output_type": "stream",
          "text": [
            "Batch_size:  64\n",
            "x_train shape on PyTorch:  torch.Size([64, 176])\n",
            "y_train shape on PyTorch:  torch.Size([64])\n",
            "x_train shape on PyTorch:  torch.Size([64, 176])\n",
            "y_train shape on PyTorch:  torch.Size([64])\n",
            "x_train shape on PyTorch:  torch.Size([64, 176])\n",
            "y_train shape on PyTorch:  torch.Size([64])\n",
            "x_train shape on PyTorch:  torch.Size([64, 176])\n",
            "y_train shape on PyTorch:  torch.Size([64])\n",
            "x_train shape on PyTorch:  torch.Size([64, 176])\n",
            "y_train shape on PyTorch:  torch.Size([64])\n",
            "x_train shape on PyTorch:  torch.Size([64, 176])\n",
            "y_train shape on PyTorch:  torch.Size([64])\n",
            "x_train shape on PyTorch:  torch.Size([5, 176])\n",
            "y_train shape on PyTorch:  torch.Size([5])\n",
            "x_test shape on PyTorch:  torch.Size([64, 176])\n",
            "y_test shape on PyTorch:  torch.Size([64])\n",
            "x_test shape on PyTorch:  torch.Size([64, 176])\n",
            "y_test shape on PyTorch:  torch.Size([64])\n",
            "x_test shape on PyTorch:  torch.Size([64, 176])\n",
            "y_test shape on PyTorch:  torch.Size([64])\n",
            "x_test shape on PyTorch:  torch.Size([64, 176])\n",
            "y_test shape on PyTorch:  torch.Size([64])\n",
            "x_test shape on PyTorch:  torch.Size([64, 176])\n",
            "y_test shape on PyTorch:  torch.Size([64])\n",
            "x_test shape on PyTorch:  torch.Size([64, 176])\n",
            "y_test shape on PyTorch:  torch.Size([64])\n",
            "x_test shape on PyTorch:  torch.Size([6, 176])\n",
            "y_test shape on PyTorch:  torch.Size([6])\n"
          ],
          "name": "stdout"
        }
      ]
    }
  ]
}