{
  "nbformat": 4,
  "nbformat_minor": 0,
  "metadata": {
    "colab": {
      "name": "project.ipynb",
      "provenance": [],
      "authorship_tag": "ABX9TyP2ymiupkHQUdcukF6C3kCD",
      "include_colab_link": true
    },
    "kernelspec": {
      "name": "python3",
      "display_name": "Python 3"
    }
  },
  "cells": [
    {
      "cell_type": "markdown",
      "metadata": {
        "id": "view-in-github",
        "colab_type": "text"
      },
      "source": [
        "<a href=\"https://colab.research.google.com/github/IIF0403/Project/blob/master/project.ipynb\" target=\"_parent\"><img src=\"https://colab.research.google.com/assets/colab-badge.svg\" alt=\"Open In Colab\"/></a>"
      ]
    },
    {
      "cell_type": "code",
      "metadata": {
        "id": "RnIEC17X_yaJ",
        "colab_type": "code",
        "colab": {
          "base_uri": "https://localhost:8080/",
          "height": 88
        },
        "outputId": "d063639e-4d54-47c2-b8c3-8eaaaa1bd63c"
      },
      "source": [
        "\"\"\"\n",
        "from google.colab import files\n",
        "import io\n",
        "import pandas as pd\n",
        "uploaded = files.upload()\n",
        "raw= pd.read_csv(io.BytesIO(uploaded[‘Worms_TEST.csv’]))\n",
        "\"\"\""
      ],
      "execution_count": null,
      "outputs": [
        {
          "output_type": "execute_result",
          "data": {
            "application/vnd.google.colaboratory.intrinsic+json": {
              "type": "string"
            },
            "text/plain": [
              "\"\\nfrom pathlib import Path\\nimport pandas as pd\\n\\nurl = 'copied_raw_GH_link'\\ndf1 = pd.read_csv(url)\\nDataset is now stored in a Pandas Dataframe\\n\\nfrom google.colab import files\\nimport io\\nimport pandas as pd\\nuploaded = files.upload()\\nraw= pd.read_csv(io.BytesIO(uploaded[‘Worms_TEST.csv’]))\\n\""
            ]
          },
          "metadata": {
            "tags": []
          },
          "execution_count": 14
        }
      ]
    },
    {
      "cell_type": "code",
      "metadata": {
        "id": "sPc7g0825QlF",
        "colab_type": "code",
        "colab": {}
      },
      "source": [
        "import pandas as pd\n",
        "import numpy as np\n",
        "\n",
        "def load_data(Dataset):\n",
        "  url_raw = 'https://raw.githubusercontent.com/IIF0403/timeseries/master/data/' \n",
        "  \n",
        "  url_train = url_raw + Dataset+'/'+Dataset+'_TRAIN'\n",
        "  data_train = pd.read_csv(url_train)\n",
        "  y_train = data_train.iloc[ : ,[0]]\n",
        "  x_train = data_train.iloc[:,1:]\n",
        "  \n",
        "  url_test = url_raw + Dataset+'/'+Dataset+'_TEST'\n",
        "  data_test = pd.read_csv(url_test)\n",
        "  y_test = data_test.iloc[ : ,[0]]\n",
        "  x_test = data_test.iloc[:,1:]\n",
        "\n",
        "  return x_train, y_train, x_test, y_test\n",
        "\n",
        "\n",
        "x_train, y_train, x_test, y_test = load_data('Adiac')\n",
        "#x_train.head()\n",
        "\n",
        "\n"
      ],
      "execution_count": null,
      "outputs": []
    },
    {
      "cell_type": "code",
      "metadata": {
        "id": "sFqBDNpYTYQf",
        "colab_type": "code",
        "colab": {}
      },
      "source": [
        "import torch"
      ],
      "execution_count": null,
      "outputs": []
    }
  ]
}